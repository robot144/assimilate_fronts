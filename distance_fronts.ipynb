{
 "cells": [
  {
   "cell_type": "code",
   "execution_count": 1,
   "metadata": {
    "executionInfo": {
     "elapsed": 13,
     "status": "ok",
     "timestamp": 1633062594946,
     "user": {
      "displayName": "Martin Verlaan",
      "photoUrl": "https://lh3.googleusercontent.com/a/default-user=s64",
      "userId": "16739911333215321411"
     },
     "user_tz": -120
    },
    "id": "69GwWNSIHL0F"
   },
   "outputs": [],
   "source": [
    "import numpy as np\n",
    "import matplotlib\n",
    "import matplotlib.pyplot as plt\n"
   ]
  },
  {
   "cell_type": "code",
   "execution_count": 20,
   "metadata": {
    "executionInfo": {
     "elapsed": 469,
     "status": "ok",
     "timestamp": 1633065223809,
     "user": {
      "displayName": "Martin Verlaan",
      "photoUrl": "https://lh3.googleusercontent.com/a/default-user=s64",
      "userId": "16739911333215321411"
     },
     "user_tz": -120
    },
    "id": "4x8z6QI8MeOz"
   },
   "outputs": [],
   "source": [
    "def plot_table(table):\n",
    "  fig, ax = plt.subplots()\n",
    "  im = ax.imshow(table[\"data\"])\n",
    "  ax.set_xticks(np.arange(len(table[\"xlabels\"])))\n",
    "  ax.set_yticks(np.arange(len(table[\"ylabels\"])))\n",
    "  ax.set_xticklabels(table[\"xlabels\"])\n",
    "  ax.set_yticklabels(table[\"ylabels\"])\n",
    "  # Rotate the tick labels and set their alignment.\n",
    "  plt.setp(ax.get_xticklabels(), rotation=45, ha=\"right\",rotation_mode=\"anchor\")\n",
    "  # Loop over data dimensions and create text annotations.\n",
    "  for i in range(table[\"data\"].shape[0]):\n",
    "      for j in range(table[\"data\"].shape[1]):\n",
    "          text = ax.text(j, i, table[\"data\"][i, j],\n",
    "                         ha=\"center\", va=\"center\", color=\"w\")\n",
    "  ax.set_title(table[\"title\"])\n",
    "  fig.tight_layout()\n",
    "  plt.show()\n"
   ]
  },
  {
   "cell_type": "code",
   "execution_count": 21,
   "metadata": {
    "colab": {
     "base_uri": "https://localhost:8080/",
     "height": 297
    },
    "executionInfo": {
     "elapsed": 676,
     "status": "ok",
     "timestamp": 1633065256618,
     "user": {
      "displayName": "Martin Verlaan",
      "photoUrl": "https://lh3.googleusercontent.com/a/default-user=s64",
      "userId": "16739911333215321411"
     },
     "user_tz": -120
    },
    "id": "kSfioii1FeF1",
    "outputId": "58da735f-1146-4b9a-ba42-eb1f62554577"
   },
   "outputs": [
    {
     "data": {
      "image/png": "[encoded data removed]",
      "text/plain": [
       "<Figure size 432x288 with 1 Axes>"
      ]
     },
     "metadata": {
      "needs_background": "light"
     },
     "output_type": "display_data"
    }
   ],
   "source": [
    "#enter example\n",
    "\n",
    "example_1 = {\n",
    "  \"xlabels\" : [\"A\", \"B\", \"C\",\"D\", \"E\", \"F\", \"G\"],\n",
    "  \"ylabels\" : [\"1\", \"2\", \"3\", \"4\", \"5\", \"6\", \"7\"],\n",
    "  \"title\": \"Title\",\n",
    "  \"data\": np.array([[0.0, 0.0, 0.0, 0.0, 0.0, 0.0, 0.0],\n",
    "                    [0.0, 0.0, 0.0, 0.0, 0.0, 0.0, 0.0],\n",
    "                    [0.0, 0.0, 0.0, 0.0, 0.0, 1.0, 0.0],\n",
    "                    [0.0, 0.0, 0.0, 0.0, 0.0, 1.0, 0.0],\n",
    "                    [0.0, 0.0, 0.0, 0.0, 0.0, 1.0, 0.0],\n",
    "                    [0.0, 0.0, 0.0, 0.0, 0.0, 0.0, 0.0],\n",
    "                    [0.0, 0.0, 0.0, 0.0, 0.0, 0.0, 0.0]])\n",
    "}\n",
    "\n",
    "plot_table(example_1)"
   ]
  },
  {
   "cell_type": "code",
   "execution_count": null,
   "metadata": {
    "id": "-6fZDCFjQ05c"
   },
   "outputs": [],
   "source": [
    "#enter example\n",
    "\n",
    "example_2 = {\n",
    "  \"xlabels\" : [\"A\", \"B\", \"C\",\"D\", \"E\", \"F\", \"G\"],\n",
    "  \"ylabels\" : [\"1\", \"2\", \"3\", \"4\", \"5\", \"6\", \"7\"],\n",
    "  \"title\": \"Title\",\n",
    "  \"data\": np.array([[0.0, 0.0, 0.0, 0.0, 0.0, 0.0, 0.0],\n",
    "                    [0.0, 0.0, 0.0, 0.0, 0.0, 0.0, 0.0],\n",
    "                    [0.0, 0.0, 0.0, 0.0, 0.0, 0.0, 0.0],\n",
    "                    [0.0, 0.0, 0.0, 0.0, 0.0, 0.0, 0.0],\n",
    "                    [0.0, 0.0, 0.0, 0.0, 0.0, 0.0, 0.0],\n",
    "                    [0.0, 0.0, 0.0, 0.0, 0.0, 0.0, 0.0],\n",
    "                    [0.0, 0.0, 0.0, 0.0, 0.0, 0.0, 0.0]])\n",
    "}\n"
   ]
  },
  {
   "cell_type": "code",
   "execution_count": 7,
   "metadata": {
    "colab": {
     "base_uri": "https://localhost:8080/",
     "height": 297
    },
    "executionInfo": {
     "elapsed": 1248,
     "status": "ok",
     "timestamp": 1633062988933,
     "user": {
      "displayName": "Martin Verlaan",
      "photoUrl": "https://lh3.googleusercontent.com/a/default-user=s64",
      "userId": "16739911333215321411"
     },
     "user_tz": -120
    },
    "id": "HOyBoXRkHcbp",
    "outputId": "289f23f1-b545-4ddc-cc16-ef17762d6190"
   },
   "outputs": [
    {
     "data": {
      "image/png": "[encoded data removed]",
      "text/plain": [
       "<Figure size 432x288 with 1 Axes>"
      ]
     },
     "metadata": {
      "needs_background": "light"
     },
     "output_type": "display_data"
    }
   ],
   "source": [
    "fig, ax = plt.subplots()\n",
    "im = ax.imshow(harvest)\n",
    "\n",
    "# We want to show all ticks...\n",
    "ax.set_xticks(np.arange(len(farmers)))\n",
    "ax.set_yticks(np.arange(len(vegetables)))\n",
    "# ... and label them with the respective list entries\n",
    "ax.set_xticklabels(farmers)\n",
    "ax.set_yticklabels(vegetables)\n",
    "\n",
    "# Rotate the tick labels and set their alignment.\n",
    "plt.setp(ax.get_xticklabels(), rotation=45, ha=\"right\",\n",
    "         rotation_mode=\"anchor\")\n",
    "\n",
    "# Loop over data dimensions and create text annotations.\n",
    "for i in range(len(vegetables)):\n",
    "    for j in range(len(farmers)):\n",
    "        text = ax.text(j, i, harvest[i, j],\n",
    "                       ha=\"center\", va=\"center\", color=\"w\")\n",
    "\n",
    "ax.set_title(\"title\")\n",
    "fig.tight_layout()\n",
    "plt.show()"
   ]
  },
  {
   "cell_type": "code",
   "execution_count": 13,
   "metadata": {
    "colab": {
     "base_uri": "https://localhost:8080/"
    },
    "executionInfo": {
     "elapsed": 452,
     "status": "ok",
     "timestamp": 1633064764647,
     "user": {
      "displayName": "Martin Verlaan",
      "photoUrl": "https://lh3.googleusercontent.com/a/default-user=s64",
      "userId": "16739911333215321411"
     },
     "user_tz": -120
    },
    "id": "po7pyjYyH4Yb",
    "outputId": "ddf506f7-7a36-4bec-cab0-32e11fe4215e"
   },
   "outputs": [
    {
     "data": {
      "text/plain": [
       "7"
      ]
     },
     "execution_count": 13,
     "metadata": {},
     "output_type": "execute_result"
    }
   ],
   "source": [
    "harvest.shape[0]"
   ]
  },
  {
   "cell_type": "code",
   "execution_count": null,
   "metadata": {
    "id": "saXpCfRVPiJZ"
   },
   "outputs": [],
   "source": []
  }
 ],
 "metadata": {
  "colab": {
   "authorship_tag": "ABX9TyM0g3rcK3oh/r32N7UqVCvQ",
   "collapsed_sections": [],
   "name": "distance_fronts.ipynb",
   "provenance": []
  },
  "kernelspec": {
   "display_name": "Python 3",
   "language": "python",
   "name": "python3"
  },
  "language_info": {
   "codemirror_mode": {
    "name": "ipython",
    "version": 3
   },
   "file_extension": ".py",
   "mimetype": "text/x-python",
   "name": "python",
   "nbconvert_exporter": "python",
   "pygments_lexer": "ipython3",
   "version": "3.7.4"
  }
 },
 "nbformat": 4,
 "nbformat_minor": 1
}
